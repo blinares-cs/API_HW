{
  "nbformat": 4,
  "nbformat_minor": 0,
  "metadata": {
    "colab": {
      "provenance": []
    },
    "kernelspec": {
      "name": "python3",
      "display_name": "Python 3"
    },
    "language_info": {
      "name": "python"
    }
  },
  "cells": [
    {
      "cell_type": "markdown",
      "source": [
        "# API Homework\n"
      ],
      "metadata": {
        "id": "wtDLVzgsFFAL"
      }
    },
    {
      "cell_type": "markdown",
      "source": [
        "### Takes user input for a stock (using the Ticker Symbol): IE with the input() command"
      ],
      "metadata": {
        "id": "grRfoA-h2IJq"
      }
    },
    {
      "cell_type": "code",
      "execution_count": 28,
      "metadata": {
        "colab": {
          "base_uri": "https://localhost:8080/"
        },
        "id": "DdlDZUaqELPx",
        "outputId": "a4bfb6b7-3d94-45c4-f9c0-722db8db9b66"
      },
      "outputs": [
        {
          "output_type": "stream",
          "name": "stdout",
          "text": [
            "Enter a list of stock ticker symbols separated by commas: AAPL\n",
            "The stock(s) to research will be: AAPL\n"
          ]
        }
      ],
      "source": [
        "# Import necessary libraries\n",
        "import json\n",
        "import pandas as pd\n",
        "import requests\n",
        "import matplotlib.pyplot as plt\n",
        "\n",
        "# Get the stock ticker symbols\n",
        "stock_input = input(\"Enter a list of stock ticker symbols separated by commas: \").upper()\n",
        "stock_list = [stock.strip() for stock in stock_input.split(',')]\n",
        "print(\"The stock(s) to research will be: \" + \", \".join(stock_list))\n",
        "\n",
        "# Define API key\n",
        "apikey = \"zjApRRcnOZ86ysi3B7GzP3X4umyZ6uh59WNwLXVj\"\n",
        "\n",
        "# URL for retrieving stock data\n",
        "base_url = \"https://yfapi.net/v11/finance/quoteSummary/AAPL?lang=en&region=US&modules=summaryDetail%2Cprice%2CfinancialData\"\n",
        "\n",
        "# URL for retrieving trending stock data\n",
        "trending_url = \"https://yfapi.net/v1/finance/trending/US\"\n",
        "\n",
        "# URL for retrieving historical price for visualization\n",
        "historical_url = \"https://yfapi.net/v8/finance/spark?interval=1d&range=5d&symbols=AAPL\""
      ]
    },
    {
      "cell_type": "markdown",
      "source": [
        "### Display back the user: Ticker Name, Full Name of the Stock, Current Market Price, Target Mean Price, 52 week high and 52 week low. Also, output 5 of the current trending stocks."
      ],
      "metadata": {
        "id": "qUDPDwe92Rls"
      }
    },
    {
      "cell_type": "code",
      "source": [
        "# Initialize headers and an empty list to store stock data\n",
        "headers = {\n",
        "    'x-api-key': apikey\n",
        "    }\n",
        "all_stock_data = []\n",
        "\n",
        "# Make the API call to get the stock information\n",
        "for stock_symbol in stock_list:\n",
        "    query_params = {\"symbols\": stock_symbol}\n",
        "    api_response = requests.get(base_url, headers=headers, params=query_params)\n",
        "\n",
        "    # Check if the connnection to the stock data is correct\n",
        "    if api_response.status_code == 200:\n",
        "        stock_data = api_response.json()\n",
        "\n",
        "        # Check if the expected information is present\n",
        "        if 'quoteSummary' in stock_data and 'result' in stock_data['quoteSummary'] and stock_data['quoteSummary']['result']:\n",
        "            stock_info = stock_data['quoteSummary']['result'][0]\n",
        "\n",
        "            # Extract relevant information to handle missing data for the dataframe\n",
        "            ticker_symbol = stock_info.get('price', {}).get('symbol', 'N/A')\n",
        "            long_name = stock_info.get('price', {}).get('longName', 'N/A')\n",
        "            current_market_price = stock_info.get('price', {}).get('regularMarketPrice', {}).get('raw', 'N/A')\n",
        "            target_mean_price = stock_info.get('financialData', {}).get('targetMeanPrice', {}).get('raw', 'N/A')\n",
        "            fifty_two_week_high = stock_info.get('summaryDetail', {}).get('fiftyTwoWeekHigh', {}).get('raw', 'N/A')\n",
        "            fifty_two_week_low = stock_info.get('summaryDetail', {}).get('fiftyTwoWeekLow', {}).get('raw', 'N/A')\n",
        "\n",
        "            # Print out the stock information\n",
        "            print(f\"Ticker Name: {ticker_symbol}\")\n",
        "            print(f\"Full Name: {long_name}\")\n",
        "            print(f\"Current Market Price: ${current_market_price}\")\n",
        "            print(f\"Target Mean Price: ${target_mean_price}\")\n",
        "            print(f\"52 Week High: ${fifty_two_week_high}\")\n",
        "            print(f\"52 Week Low: ${fifty_two_week_low}\")\n",
        "\n",
        "            # Append the stock information for the dataframe\n",
        "            all_stock_data.append({\n",
        "                \"Category\": \"Stock\",\n",
        "                \"Ticker Name\": ticker_symbol,\n",
        "                \"Full Name\": long_name,\n",
        "                \"Current Market Price\": current_market_price,\n",
        "                \"Target Mean Price\": target_mean_price,\n",
        "                \"52 Week High\": fifty_two_week_high,\n",
        "                \"52 Week Low\": fifty_two_week_low,\n",
        "                \"Trending Stocks\": None\n",
        "            })\n",
        "        else:\n",
        "            print(f\"Error: Stock data not found.\")\n",
        "    else:\n",
        "        print(f\"Error: Unable to retrieve data for the stock(s).\")\n",
        "\n",
        "# Make the API call to get the trending information\n",
        "trending_response = requests.get(trending_url, headers=headers)\n",
        "\n",
        "# Check if the connnection to the trending data is correct\n",
        "if trending_response.status_code == 200:\n",
        "    trending_data = trending_response.json()\n",
        "\n",
        "    # Check if the trending stock information is present\n",
        "    if 'finance' in trending_data and 'result' in trending_data['finance'] and trending_data['finance']['result']:\n",
        "        trending_stocks = trending_data['finance']['result'][0]['quotes']\n",
        "\n",
        "        # Print the top 5 trending stocks\n",
        "        print(\"\\nTop 5 Trending Stocks:\")\n",
        "        for i, stock in enumerate(trending_stocks[:5], 1):\n",
        "            print(f\"{i}. Ticker: {stock.get('symbol', 'N/A')}\")\n",
        "\n",
        "            # Append trending stocks for the dataframe and put empty values in all areas besides the trending stock column\n",
        "            all_stock_data.append({\n",
        "                \"Category\": \"Trending Stock\",\n",
        "                \"Ticker Name\": None,\n",
        "                \"Full Name\": None,\n",
        "                \"Current Market Price\": None,\n",
        "                \"Target Mean Price\": None,\n",
        "                \"52 Week High\": None,\n",
        "                \"52 Week Low\": None,\n",
        "                \"Trending Stocks\": stock.get('symbol', 'N/A')\n",
        "            })\n",
        "    else:\n",
        "        print(\"Error: Trending stocks data not found.\")\n",
        "else:\n",
        "    print(f\"Error: Unable to retrieve trending stocks.\")"
      ],
      "metadata": {
        "colab": {
          "base_uri": "https://localhost:8080/"
        },
        "id": "WBG-Bqumx1FN",
        "outputId": "b3eea33f-44ae-4a91-8841-619ab1c4dc32"
      },
      "execution_count": 29,
      "outputs": [
        {
          "output_type": "stream",
          "name": "stdout",
          "text": [
            "Ticker Name: AAPL\n",
            "Full Name: Apple Inc.\n",
            "Current Market Price: $226.78\n",
            "Target Mean Price: $240.58\n",
            "52 Week High: $237.23\n",
            "52 Week Low: $164.08\n",
            "\n",
            "Top 5 Trending Stocks:\n",
            "1. Ticker: JOBY\n",
            "2. Ticker: NVAX\n",
            "3. Ticker: NVDA\n",
            "4. Ticker: ^NSEI\n",
            "5. Ticker: CLOV\n"
          ]
        }
      ]
    },
    {
      "cell_type": "markdown",
      "source": [
        " ### 3.\tPut that data in a DataFrame and then store that to a CSV file"
      ],
      "metadata": {
        "id": "twlOkBGD2aiG"
      }
    },
    {
      "cell_type": "code",
      "source": [
        "# DataFrame with the combined stock data\n",
        "combined_stock_df = pd.DataFrame(all_stock_data)\n",
        "\n",
        "# Save DataFrame to a CSV file\n",
        "combined_stock_df.to_csv(\"combined_stock_data.csv\", index=False)\n",
        "print(\"\\nAll of the stock data and the top 5 trending stocks have been saved to 'combined_stock_data.csv' successfully.\")\n",
        "\n",
        "# Print out the combined DataFrame\n",
        "print(\"\\nCombined DataFrame:\")\n",
        "print(combined_stock_df)"
      ],
      "metadata": {
        "colab": {
          "base_uri": "https://localhost:8080/"
        },
        "id": "YQ9lwSgr2Z1o",
        "outputId": "0e1460a7-8556-4fb5-ff1c-5ce483ba117d"
      },
      "execution_count": 30,
      "outputs": [
        {
          "output_type": "stream",
          "name": "stdout",
          "text": [
            "\n",
            "All of the stock data and the top 5 trending stocks have been saved to 'combined_stock_data.csv' successfully.\n",
            "\n",
            "Combined DataFrame:\n",
            "         Category Ticker Name   Full Name  Current Market Price  \\\n",
            "0           Stock        AAPL  Apple Inc.                226.78   \n",
            "1  Trending Stock        None        None                   NaN   \n",
            "2  Trending Stock        None        None                   NaN   \n",
            "3  Trending Stock        None        None                   NaN   \n",
            "4  Trending Stock        None        None                   NaN   \n",
            "5  Trending Stock        None        None                   NaN   \n",
            "\n",
            "   Target Mean Price  52 Week High  52 Week Low Trending Stocks  \n",
            "0             240.58        237.23       164.08            None  \n",
            "1                NaN           NaN          NaN            JOBY  \n",
            "2                NaN           NaN          NaN            NVAX  \n",
            "3                NaN           NaN          NaN            NVDA  \n",
            "4                NaN           NaN          NaN           ^NSEI  \n",
            "5                NaN           NaN          NaN            CLOV  \n"
          ]
        }
      ]
    },
    {
      "cell_type": "markdown",
      "source": [
        "### Use MatPlotLib to chart the historical price of a stock price’s highest value over the past 5 days."
      ],
      "metadata": {
        "id": "iO2IJLb42e7U"
      }
    },
    {
      "cell_type": "code",
      "source": [
        "# Define the stock and the parameters for the historical data\n",
        "params = {\n",
        "    \"symbols\": stock_input,\n",
        "    \"range\": \"5d\",\n",
        "    \"interval\": \"1d\"\n",
        "}\n",
        "\n",
        "# Set up the request headers with the API key\n",
        "headers = {\n",
        "    'x-api-key': apikey\n",
        "    }\n",
        "\n",
        "# Make the API call to get historical data\n",
        "response = requests.get(historical_url, headers=headers, params=params)\n",
        "\n",
        "# Check if the connnection to historical data is correct\n",
        "if response.status_code == 200:\n",
        "    historical_data = response.json()\n",
        "\n",
        "    # Check if the symbol inputted does exist\n",
        "    if stock_input in historical_data:\n",
        "\n",
        "        # Extract the timestamp and the high prices\n",
        "        timestamps = historical_data[stock_input]['timestamp']\n",
        "        high_prices = historical_data[stock_input]['close']\n",
        "\n",
        "        # Convert the timestamps to dates\n",
        "        dates = pd.to_datetime(timestamps, unit='s')\n",
        "\n",
        "        # Plot the high price values over the past 5 days\n",
        "        plt.plot(dates, high_prices, marker='o')\n",
        "        plt.title(f'Highest Prices of {stock_input} Over the Past 5 Days')\n",
        "        plt.xlabel('Date')\n",
        "        plt.ylabel('Highest Price ($)')\n",
        "        plt.grid(True)\n",
        "        plt.xticks(rotation=45)\n",
        "        plt.tight_layout()\n",
        "        plt.show()\n",
        "    else:\n",
        "        print(f\"Error: No data found for the stock.\")\n",
        "else:\n",
        "    print(f\"Error: Unable to retrieve historical data.\")"
      ],
      "metadata": {
        "colab": {
          "base_uri": "https://localhost:8080/",
          "height": 487
        },
        "id": "Ziv-MFwXFv1b",
        "outputId": "0102cc1b-21f5-4779-aabc-d47fe09f19f7"
      },
      "execution_count": 31,
      "outputs": [
        {
          "output_type": "display_data",
          "data": {
            "text/plain": [
              "<Figure size 640x480 with 1 Axes>"
            ],
            "image/png": "[encoded data removed]"
          },
          "metadata": {}
        }
      ]
    }
  ]
}